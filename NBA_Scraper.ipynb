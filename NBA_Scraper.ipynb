{
 "cells": [
  {
   "cell_type": "code",
   "execution_count": null,
   "metadata": {},
   "outputs": [],
   "source": [
    "# Dependencies\n",
    "from bs4 import BeautifulSoup\n",
    "from splinter import Browser\n",
    "import requests\n",
    "import re\n",
    "import time"
   ]
  },
  {
   "cell_type": "markdown",
   "metadata": {},
   "source": [
    "## Scrape NBA Team"
   ]
  },
  {
   "cell_type": "code",
   "execution_count": null,
   "metadata": {},
   "outputs": [],
   "source": [
    "#teams list\n",
    "teams = ['ATL', 'BOS', 'BRK', 'CHO', 'CHI', 'CLE', 'DAL', 'DEN', 'DET',\n",
    "         'GSW', 'HOU', 'IND', 'LAC', 'LAL', 'MEM', 'MIA', 'MIL', 'MIN',\n",
    "         'NOP', 'NYK', 'OKC', 'ORL', 'PHI', 'PHO', 'POR', 'SAC', 'SAS',\n",
    "         'TOR', 'UTA', 'WAS']"
   ]
  },
  {
   "cell_type": "code",
   "execution_count": null,
   "metadata": {},
   "outputs": [],
   "source": [
    "executable_path = {'executable_path': 'chromedriver.exe'}\n",
    "browser = Browser('chrome', **executable_path, headless=False)"
   ]
  },
  {
   "cell_type": "code",
   "execution_count": null,
   "metadata": {},
   "outputs": [],
   "source": [
    "team_list = []\n",
    "x = 0 \n",
    "while x == 0:\n",
    "    try:\n",
    "        for team in teams:\n",
    "            # URL\n",
    "            url = r\"https://www.basketball-reference.com/teams/\" + team + \"/2019.html\"\n",
    "            browser.visit(url)\n",
    "\n",
    "            stat_list = []\n",
    "\n",
    "            #Path to get titles of articles\n",
    "            team_X = team\n",
    "            oEfg_X = '//*[@id=\"team_misc\"]/tbody/tr[1]/td[13]'\n",
    "            dEfg_X = '//*[@id=\"team_misc\"]/tbody/tr[1]/td[17]'\n",
    "            oTOV_X = '//*[@id=\"team_misc\"]/tbody/tr[1]/td[14]'\n",
    "            dTOV_X = '//*[@id=\"team_misc\"]/tbody/tr[1]/td[18]'\n",
    "            oORB_X = '//*[@id=\"team_misc\"]/tbody/tr[1]/td[15]'\n",
    "            dDRB_X = '//*[@id=\"team_misc\"]/tbody/tr[1]/td[19]'\n",
    "            oFtByFga_X = '//*[@id=\"team_misc\"]/tbody/tr[1]/td[16]'\n",
    "            dFtByFga_X = '//*[@id=\"team_misc\"]/tbody/tr[1]/td[20]'\n",
    "\n",
    "            #Reading the results  \n",
    "            abr = team_X\n",
    "            stat_list.append(abr)\n",
    "            oEfg = browser.find_by_xpath(oEfg_X).value\n",
    "            stat_list.append(oEfg)\n",
    "            dEfg = browser.find_by_xpath(dEfg_X).value\n",
    "            stat_list.append(dEfg)\n",
    "            oTOV = browser.find_by_xpath(oTOV_X).value\n",
    "            stat_list.append(oTOV)\n",
    "            dTOV = browser.find_by_xpath(dTOV_X).value\n",
    "            stat_list.append(dTOV)\n",
    "            oORB = browser.find_by_xpath(oORB_X).value\n",
    "            stat_list.append(oORB)\n",
    "            dDRB = browser.find_by_xpath(dDRB_X).value\n",
    "            stat_list.append(dDRB)\n",
    "            oFtByFga = browser.find_by_xpath(oFtByFga_X).value\n",
    "            stat_list.append(oFtByFga)\n",
    "            dFtByFga = browser.find_by_xpath(dFtByFga_X).value\n",
    "            stat_list.append(dFtByFga)\n",
    "\n",
    "            team_list.append(stat_list)\n",
    "            print(team_list)\n",
    "        x = 1\n",
    "    except:\n",
    "        print(\"try again\")\n",
    "        \n"
   ]
  },
  {
   "cell_type": "code",
   "execution_count": null,
   "metadata": {},
   "outputs": [],
   "source": [
    "import pandas as pd\n",
    "df = pd.DataFrame(team_list)\n",
    "df.columns = ['Team_abbr','Offense_eFG','Defense_eFG','Offense_TOV','Defense_TOV','Offense_ORB','Defense_DRB','Offense_FtFga','Defense_FtFga']\n",
    "df"
   ]
  },
  {
   "cell_type": "markdown",
   "metadata": {},
   "source": [
    "## Export to SQLite"
   ]
  },
  {
   "cell_type": "code",
   "execution_count": null,
   "metadata": {},
   "outputs": [],
   "source": [
    "from sqlalchemy import create_engine\n",
    "\n",
    "#export to SQLite\n",
    "disk_engine = create_engine('sqlite:///schedule_abr.sqlite')\n",
    "df.to_sql('stats', disk_engine, if_exists='replace', index=False)"
   ]
  },
  {
   "cell_type": "markdown",
   "metadata": {},
   "source": [
    "## Download January Results"
   ]
  },
  {
   "cell_type": "code",
   "execution_count": null,
   "metadata": {},
   "outputs": [],
   "source": [
    "import pandas as pd\n",
    "import numpy as np"
   ]
  },
  {
   "cell_type": "code",
   "execution_count": null,
   "metadata": {},
   "outputs": [],
   "source": [
    "url = \"https://www.basketball-reference.com/leagues/NBA_2019_games-january.html\"\n",
    "dfs = pd.read_html(url)\n",
    "for df in dfs:\n",
    "    print(df.head(5))\n",
    "cols = [0,2,3,4,5]\n",
    "df = df[df.columns[cols]]\n",
    "df.columns = ['game_date', 'road_team', 'road_team_pts', 'home_team', 'home_team_pts']\n",
    "df[\"road_win_prediction\"] = np.nan\n",
    "df[\"road_win_prediction_correct\"] = np.nan"
   ]
  },
  {
   "cell_type": "code",
   "execution_count": null,
   "metadata": {},
   "outputs": [],
   "source": [
    "df"
   ]
  },
  {
   "cell_type": "code",
   "execution_count": null,
   "metadata": {},
   "outputs": [],
   "source": []
  }
 ],
 "metadata": {
  "kernelspec": {
   "display_name": "Python 3",
   "language": "python",
   "name": "python3"
  },
  "language_info": {
   "codemirror_mode": {
    "name": "ipython",
    "version": 3
   },
   "file_extension": ".py",
   "mimetype": "text/x-python",
   "name": "python",
   "nbconvert_exporter": "python",
   "pygments_lexer": "ipython3",
   "version": "3.6.5"
  }
 },
 "nbformat": 4,
 "nbformat_minor": 2
}
