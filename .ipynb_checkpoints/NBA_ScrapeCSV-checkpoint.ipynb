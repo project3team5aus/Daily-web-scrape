{
 "cells": [
  {
   "cell_type": "code",
   "execution_count": 1,
   "metadata": {},
   "outputs": [],
   "source": [
    "# Dependencies\n",
    "from bs4 import BeautifulSoup\n",
    "from splinter import Browser\n",
    "import requests\n",
    "import pymongo\n",
    "import re\n",
    "import time"
   ]
  },
  {
   "cell_type": "code",
   "execution_count": null,
   "metadata": {},
   "outputs": [],
   "source": [
    "# Initialize PyMongo to work with MongoDBs\n",
    "conn = 'mongodb://localhost:27017'\n",
    "client = pymongo.MongoClient(conn)"
   ]
  },
  {
   "cell_type": "code",
   "execution_count": null,
   "metadata": {},
   "outputs": [],
   "source": [
    "# Define database and collection\n",
    "db = client.nba\n",
    "collection = db.items"
   ]
  },
  {
   "cell_type": "markdown",
   "metadata": {},
   "source": [
    "## Scrape NBA Team"
   ]
  },
  {
   "cell_type": "code",
   "execution_count": null,
   "metadata": {},
   "outputs": [],
   "source": [
    "#teams list\n",
    "teams = ['ATL', 'BOS', 'BRK', 'CHO', 'CHI', 'CLE', 'DAL', 'DEN', 'DET',\n",
    "         'GSW', 'HOU', 'IND', 'LAC', 'LAL', 'MEM', 'MIA', 'MIL', 'MIN',\n",
    "         'NOP', 'NYK', 'OKC', 'ORL', 'PHI', 'PHO', 'POR', 'SAC', 'SAS',\n",
    "         'TOR', 'UTA', 'WAS']"
   ]
  },
  {
   "cell_type": "code",
   "execution_count": null,
   "metadata": {},
   "outputs": [],
   "source": [
    "executable_path = {'executable_path': 'chromedriver.exe'}\n",
    "browser = Browser('chrome', **executable_path, headless=False)"
   ]
  },
  {
   "cell_type": "code",
   "execution_count": null,
   "metadata": {},
   "outputs": [],
   "source": [
    "team_list = []\n",
    "x = 0 \n",
    "while x == 0:\n",
    "    try:\n",
    "        for team in teams:\n",
    "            # URL\n",
    "            url = r\"https://www.basketball-reference.com/teams/\" + team + \"/2019.html\"\n",
    "            browser.visit(url)\n",
    "\n",
    "            stat_list = []\n",
    "\n",
    "            #Path to get titles of articles\n",
    "            team_X = team\n",
    "            oEfg_X = '//*[@id=\"team_misc\"]/tbody/tr[1]/td[13]'\n",
    "            dEfg_X = '//*[@id=\"team_misc\"]/tbody/tr[1]/td[17]'\n",
    "            oTOV_X = '//*[@id=\"team_misc\"]/tbody/tr[1]/td[14]'\n",
    "            dTOV_X = '//*[@id=\"team_misc\"]/tbody/tr[1]/td[18]'\n",
    "            oORB_X = '//*[@id=\"team_misc\"]/tbody/tr[1]/td[15]'\n",
    "            dDRB_X = '//*[@id=\"team_misc\"]/tbody/tr[1]/td[19]'\n",
    "            oFtByFga_X = '//*[@id=\"team_misc\"]/tbody/tr[1]/td[16]'\n",
    "            dFtByFga_X = '//*[@id=\"team_misc\"]/tbody/tr[1]/td[20]'\n",
    "\n",
    "            #Reading the results  \n",
    "            abr = team_X\n",
    "            stat_list.append(abr)\n",
    "            oEfg = browser.find_by_xpath(oEfg_X).value\n",
    "            stat_list.append(oEfg)\n",
    "            dEfg = browser.find_by_xpath(dEfg_X).value\n",
    "            stat_list.append(dEfg)\n",
    "            oTOV = browser.find_by_xpath(oTOV_X).value\n",
    "            stat_list.append(oTOV)\n",
    "            dTOV = browser.find_by_xpath(dTOV_X).value\n",
    "            stat_list.append(dTOV)\n",
    "            oORB = browser.find_by_xpath(oORB_X).value\n",
    "            stat_list.append(oORB)\n",
    "            dDRB = browser.find_by_xpath(dDRB_X).value\n",
    "            stat_list.append(dDRB)\n",
    "            oFtByFga = browser.find_by_xpath(oFtByFga_X).value\n",
    "            stat_list.append(oFtByFga)\n",
    "            dFtByFga = browser.find_by_xpath(dFtByFga_X).value\n",
    "            stat_list.append(dFtByFga)\n",
    "\n",
    "            team_list.append(stat_list)\n",
    "            print(team_list)\n",
    "        x = 1\n",
    "    except:\n",
    "        print(\"try again\")\n",
    "        \n"
   ]
  },
  {
   "cell_type": "code",
   "execution_count": null,
   "metadata": {},
   "outputs": [],
   "source": [
    "import pandas as pd\n",
    "df = pd.DataFrame(team_list)\n",
    "df.columns = ['Team_abbr','Offense_eFG','Defense_eFG','Offense_TOV','Defense_TOV','Offense_ORB','Defense_DRB','Offense_FtFga','Defense_FtFga']\n",
    "df"
   ]
  },
  {
   "cell_type": "code",
   "execution_count": null,
   "metadata": {},
   "outputs": [],
   "source": [
    "#export csv with current date\n",
    "df.to_csv('stats_20190103.csv', index=False)"
   ]
  },
  {
   "cell_type": "markdown",
   "metadata": {},
   "source": [
    "## Export to SQLite"
   ]
  },
  {
   "cell_type": "code",
   "execution_count": 11,
   "metadata": {},
   "outputs": [],
   "source": [
    "import sqlite3\n",
    "from sqlite3 import Error\n",
    "import pandas as pd"
   ]
  },
  {
   "cell_type": "code",
   "execution_count": 61,
   "metadata": {},
   "outputs": [
    {
     "data": {
      "text/plain": [
       "'2.6.0'"
      ]
     },
     "execution_count": 61,
     "metadata": {},
     "output_type": "execute_result"
    }
   ],
   "source": [
    "sqlite3.version"
   ]
  },
  {
   "cell_type": "code",
   "execution_count": 62,
   "metadata": {},
   "outputs": [
    {
     "data": {
      "text/plain": [
       "'3.21.0'"
      ]
     },
     "execution_count": 62,
     "metadata": {},
     "output_type": "execute_result"
    }
   ],
   "source": [
    "sqlite3.sqlite_version"
   ]
  },
  {
   "cell_type": "code",
   "execution_count": 70,
   "metadata": {},
   "outputs": [],
   "source": [
    "# Create the connection\n",
    "db = sqlite3.connect(r'C:\\\\Users\\colem\\repos\\WebScrapeNBA\\pythonsqlite.db')"
   ]
  },
  {
   "cell_type": "code",
   "execution_count": 65,
   "metadata": {},
   "outputs": [],
   "source": [
    "#create in-memory connection\n",
    "dbm = db = sqlite3.connect(':memory:')"
   ]
  },
  {
   "cell_type": "code",
   "execution_count": 71,
   "metadata": {},
   "outputs": [],
   "source": [
    "cursor = db.cursor()\n",
    "cursor.execute('''CREATE TABLE nba_stats(team_id INTEGER PRIMARY KEY,\n",
    "Team_abbr TEXT,\n",
    "Offense_eFG REAL,\n",
    "Defense_eFG REAL,\n",
    "Offense_TOV REAL,\n",
    "Defense_TOV REAL,\n",
    "Offense_ORB REAL,\n",
    "Defense_DRB REAL,\n",
    "Offense_FtFga REAL,\n",
    "Defense_FtFga REAL)''')\n",
    "db.commit()"
   ]
  },
  {
   "cell_type": "code",
   "execution_count": 72,
   "metadata": {},
   "outputs": [],
   "source": [
    "db.close()\n",
    "dbm.close()"
   ]
  },
  {
   "cell_type": "code",
   "execution_count": null,
   "metadata": {},
   "outputs": [],
   "source": []
  },
  {
   "cell_type": "code",
   "execution_count": null,
   "metadata": {},
   "outputs": [],
   "source": []
  },
  {
   "cell_type": "markdown",
   "metadata": {},
   "source": [
    "## Import from SQLite"
   ]
  },
  {
   "cell_type": "code",
   "execution_count": null,
   "metadata": {},
   "outputs": [],
   "source": [
    "import sqlite3\n",
    "import pandas as pd\n",
    "\n",
    "# Create the connection\n",
    "cnx = sqlite3.connect(r'C:\\\\Users\\colem\\repos\\WebScrapeNBA\\pythonsqlite.db')\n",
    "\n",
    "# create the dataframe from a query\n",
    "df = pd.read_sql_query(\"SELECT * FROM userdata\", cnx)"
   ]
  },
  {
   "cell_type": "code",
   "execution_count": null,
   "metadata": {},
   "outputs": [],
   "source": []
  },
  {
   "cell_type": "code",
   "execution_count": null,
   "metadata": {},
   "outputs": [],
   "source": []
  },
  {
   "cell_type": "markdown",
   "metadata": {},
   "source": [
    "## Functions for export to SQLite"
   ]
  },
  {
   "cell_type": "code",
   "execution_count": 73,
   "metadata": {},
   "outputs": [],
   "source": [
    "def create_connection(db_file):\n",
    "    \"\"\" create a database connection to the SQLite database\n",
    "        specified by db_file\n",
    "    :param db_file: database file\n",
    "    :return: Connection object or None\n",
    "    \"\"\"\n",
    "    try:\n",
    "        conn = sqlite3.connect(db_file)\n",
    "        return conn\n",
    "    except Error as e:\n",
    "        print(e)\n",
    " \n",
    "    return None"
   ]
  },
  {
   "cell_type": "code",
   "execution_count": 57,
   "metadata": {},
   "outputs": [
    {
     "name": "stdout",
     "output_type": "stream",
     "text": [
      "2.6.0\n"
     ]
    }
   ],
   "source": [
    "if __name__ == '__main__':\n",
    "    create_connection(r\"C:\\\\Users\\colem\\repos\\WebScrapeNBA\\pythonsqlite.db\")\n",
    "    "
   ]
  },
  {
   "cell_type": "code",
   "execution_count": 74,
   "metadata": {},
   "outputs": [],
   "source": [
    "def create_table(conn, create_table_sql):\n",
    "    \"\"\" create a table from the create_table_sql statement\n",
    "    :param conn: Connection object\n",
    "    :param create_table_sql: a CREATE TABLE statement\n",
    "    :return:\n",
    "    \"\"\"\n",
    "    try:\n",
    "        c = conn.cursor()\n",
    "        c.execute(create_table_sql)\n",
    "    except Error as e:\n",
    "        print(e)"
   ]
  },
  {
   "cell_type": "code",
   "execution_count": 77,
   "metadata": {},
   "outputs": [],
   "source": [
    "def main():\n",
    "\n",
    "    database = r'C:\\\\Users\\colem\\repos\\WebScrapeNBA\\pythonsqlite.db'\n",
    " \n",
    "    sql_create_tasks_table = \"\"\"CREATE TABLE `scraped_stats` (\n",
    "                                    `team_id`INTEGER,\n",
    "                                    `Team_abbr`TEXT,\n",
    "                                    `Offense_eFG`REAL,\n",
    "                                    `Defense_eFG`REAL,\n",
    "                                    `Offense_TOV`REAL,\n",
    "                                    `Defense_TOV`REAL,\n",
    "                                    `Offense_ORB`REAL,\n",
    "                                    `Defense_DRB`REAL,\n",
    "                                    `Offense_FtFga`REAL,\n",
    "                                    `Defense_FtFga`REAL,\n",
    "                                    PRIMARY KEY(`team_id`)\n",
    "                                    );\"\"\"\n",
    " \n",
    "    # create a database connection\n",
    "    conn = create_connection(database)\n",
    "    if conn is not None:\n",
    "        # create tasks table\n",
    "        create_table(conn, sql_create_tasks_table)\n",
    "        print(\"conn is not none\")\n",
    "    else:\n",
    "        print(\"Error! cannot create the database connection.\")"
   ]
  },
  {
   "cell_type": "code",
   "execution_count": null,
   "metadata": {},
   "outputs": [],
   "source": []
  },
  {
   "cell_type": "code",
   "execution_count": null,
   "metadata": {},
   "outputs": [],
   "source": []
  },
  {
   "cell_type": "code",
   "execution_count": null,
   "metadata": {},
   "outputs": [],
   "source": []
  },
  {
   "cell_type": "markdown",
   "metadata": {},
   "source": [
    "## No working below here"
   ]
  },
  {
   "cell_type": "code",
   "execution_count": 78,
   "metadata": {},
   "outputs": [
    {
     "name": "stdout",
     "output_type": "stream",
     "text": [
      "conn is not none\n"
     ]
    }
   ],
   "source": [
    "if __name__ == '__main__':\n",
    "    main()"
   ]
  },
  {
   "cell_type": "code",
   "execution_count": null,
   "metadata": {},
   "outputs": [],
   "source": [
    "    sql_create_tasks_table = \"\"\"CREATE TABLE IF NOT EXISTS tasks (\n",
    "                                    team_id INTEGER PRIMARY KEY,\n",
    "                                    Team_abbr TEXT,\n",
    "                                    Offense_eFG REAL,\n",
    "                                    Defense_eFG REAL,\n",
    "                                    Offense_TOV REAL,\n",
    "                                    Defense_TOV REAL,\n",
    "                                    Offense_ORB REAL,\n",
    "                                    Defense_DRB REAL,\n",
    "                                    Offense_FtFga REAL,\n",
    "                                    Defense_FtFga REAL\n",
    "                                );\"\"\""
   ]
  },
  {
   "cell_type": "code",
   "execution_count": null,
   "metadata": {},
   "outputs": [],
   "source": [
    "    sql_create_tasks_table = \"\"\"CREATE TABLE `scraped_stats` (\n",
    "                                    `team_id`INTEGER,\n",
    "                                    `Team_abbr`TEXT,\n",
    "                                    `Offense_eFG`REAL,\n",
    "                                    `Defense_eFG`REAL,\n",
    "                                    `Offense_TOV`REAL,\n",
    "                                    `Defense_TOV`REAL,\n",
    "                                    `Offense_ORB`REAL,\n",
    "                                    `Defense_DRB`REAL,\n",
    "                                    `Offense_FtFga`REAL,\n",
    "                                    `Defense_FtFga`REAL,\n",
    "                                    PRIMARY KEY(`team_id`)\n",
    "                                    );\"\"\""
   ]
  },
  {
   "cell_type": "code",
   "execution_count": null,
   "metadata": {},
   "outputs": [],
   "source": []
  },
  {
   "cell_type": "code",
   "execution_count": null,
   "metadata": {},
   "outputs": [],
   "source": []
  },
  {
   "cell_type": "code",
   "execution_count": null,
   "metadata": {},
   "outputs": [],
   "source": []
  },
  {
   "cell_type": "markdown",
   "metadata": {},
   "source": [
    "## Testing Below"
   ]
  },
  {
   "cell_type": "code",
   "execution_count": null,
   "metadata": {},
   "outputs": [],
   "source": [
    "url = 'https://www.basketball-reference.com/teams/'\n",
    "browser.visit(url)"
   ]
  },
  {
   "cell_type": "code",
   "execution_count": null,
   "metadata": {},
   "outputs": [],
   "source": [
    "# URL\n",
    "url = 'https://www.basketball-reference.com/teams/TOR/2019.html'\n",
    "browser.visit(url)"
   ]
  },
  {
   "cell_type": "code",
   "execution_count": null,
   "metadata": {},
   "outputs": [],
   "source": [
    "#create dataframe\n",
    "df = pd.DataFrame(columns=['Team_abbr','Offense_eFG','Defense_eFG','Offense_TOV','Defense_TOV','Offense_ORB','Defense_DRB','Offense_FtFga','Defense_FtFga'])\n",
    "df"
   ]
  },
  {
   "cell_type": "code",
   "execution_count": null,
   "metadata": {},
   "outputs": [],
   "source": [
    "team_list = []"
   ]
  },
  {
   "cell_type": "code",
   "execution_count": null,
   "metadata": {},
   "outputs": [],
   "source": [
    "stat_list = []\n",
    "\n",
    "#Path to get titles of articles\n",
    "team_X = ''\n",
    "oEfg_X = '//*[@id=\"team_misc\"]/tbody/tr[1]/td[13]'\n",
    "dEfg_X = '//*[@id=\"team_misc\"]/tbody/tr[1]/td[17]'\n",
    "oTOV_X = '//*[@id=\"team_misc\"]/tbody/tr[1]/td[14]'\n",
    "dTOV_X = '//*[@id=\"team_misc\"]/tbody/tr[1]/td[18]'\n",
    "oORB_X = '//*[@id=\"team_misc\"]/tbody/tr[1]/td[15]'\n",
    "dDRB_X = '//*[@id=\"team_misc\"]/tbody/tr[1]/td[19]'\n",
    "oFtByFga_X = '//*[@id=\"team_misc\"]/tbody/tr[1]/td[16]'\n",
    "dFtByFga_X = '//*[@id=\"team_misc\"]/tbody/tr[1]/td[20]'\n",
    "\n",
    "#Reading the results  \n",
    "abr = team_X\n",
    "stat_list.append(abr)\n",
    "oEfg = browser.find_by_xpath(oEfg_X).value\n",
    "stat_list.append(oEfg)\n",
    "dEfg = browser.find_by_xpath(dEfg_X).value\n",
    "stat_list.append(dEfg)\n",
    "oTOV = browser.find_by_xpath(oTOV_X).value\n",
    "stat_list.append(oTOV)\n",
    "dTOV = browser.find_by_xpath(dTOV_X).value\n",
    "stat_list.append(dTOV)\n",
    "oORB = browser.find_by_xpath(oORB_X).value\n",
    "stat_list.append(oORB)\n",
    "dDRB = browser.find_by_xpath(dDRB_X).value\n",
    "stat_list.append(dDRB)\n",
    "oFtByFga = browser.find_by_xpath(oFtByFga_X).value\n",
    "stat_list.append(oFtByFga)\n",
    "dFtByFga = browser.find_by_xpath(dFtByFga_X).value\n",
    "stat_list.append(dFtByFga)\n",
    "\n",
    "team_list.append(stat_list)\n",
    "print(stat_list)\n",
    "print(\"------------\")\n",
    "print(team_list)"
   ]
  },
  {
   "cell_type": "code",
   "execution_count": null,
   "metadata": {},
   "outputs": [],
   "source": [
    "print(team_list)"
   ]
  },
  {
   "cell_type": "markdown",
   "metadata": {},
   "source": [
    "## List to DF with headers"
   ]
  },
  {
   "cell_type": "code",
   "execution_count": null,
   "metadata": {},
   "outputs": [],
   "source": [
    "df = pd.DataFrame(team_list)\n",
    "df.columns = ['Team_abbr','Offense_eFG','Defense_eFG','Offense_TOV','Defense_TOV','Offense_ORB','Defense_DRB','Offense_FtFga','Defense_FtFga']\n",
    "df"
   ]
  },
  {
   "cell_type": "code",
   "execution_count": null,
   "metadata": {},
   "outputs": [],
   "source": []
  },
  {
   "cell_type": "markdown",
   "metadata": {},
   "source": [
    "## Try pandas again"
   ]
  },
  {
   "cell_type": "code",
   "execution_count": null,
   "metadata": {},
   "outputs": [],
   "source": [
    "dfs = pd.read_html(url)\n",
    "for df in dfs:\n",
    "    print(df.head(5))"
   ]
  },
  {
   "cell_type": "code",
   "execution_count": null,
   "metadata": {},
   "outputs": [],
   "source": []
  },
  {
   "cell_type": "markdown",
   "metadata": {},
   "source": [
    "## Try lxml again"
   ]
  },
  {
   "cell_type": "code",
   "execution_count": null,
   "metadata": {},
   "outputs": [],
   "source": [
    "url = \"https://www.basketball-reference.com/teams/TOR/2019.html\"\n",
    "res = requests.get(url)\n",
    "soup = BeautifulSoup(res.text, 'lxml')\n",
    "for trow in soup.select(\"tbody\"):\n",
    "    data = [[' '.join(item.text.split()) for item in tcel.select(\"td\")]\n",
    "            for tcel in trow.select(\"tr\")]\n",
    "    print(data)"
   ]
  },
  {
   "cell_type": "markdown",
   "metadata": {},
   "source": [
    "## Try lxml"
   ]
  },
  {
   "cell_type": "code",
   "execution_count": null,
   "metadata": {},
   "outputs": [],
   "source": [
    "import urllib\n",
    "import bs4 as bs\n",
    "\n",
    "sauce = urllib.request.urlopen(url).read()\n",
    "soup = bs.BeautifulSoup(sauce, 'lxml')"
   ]
  },
  {
   "cell_type": "code",
   "execution_count": null,
   "metadata": {},
   "outputs": [],
   "source": [
    "table = soup.find('tbody')\n",
    "table"
   ]
  },
  {
   "cell_type": "markdown",
   "metadata": {},
   "source": [
    "## Try overstack"
   ]
  },
  {
   "cell_type": "code",
   "execution_count": null,
   "metadata": {},
   "outputs": [],
   "source": [
    "import urllib\n",
    "import pandas as pd\n",
    "\n",
    "html_table = urllib.request.urlopen(url).read()\n",
    "\n",
    "# fix HTML\n",
    "soup = BeautifulSoup(html_table, \"html.parser\")\n",
    "# warn! id ratings-table is your page specific\n",
    "for table in soup.findChildren(attrs={'class': \"suppress_all stats_table\"}): \n",
    "    for c in table.children:\n",
    "        if c.name in ['tbody', 'thead']:\n",
    "            c.unwrap()\n",
    "\n",
    "df = pd.read_html(str(soup), flavor=\"bs4\")\n",
    "df"
   ]
  },
  {
   "cell_type": "markdown",
   "metadata": {},
   "source": [
    "## soup walk through"
   ]
  },
  {
   "cell_type": "code",
   "execution_count": null,
   "metadata": {},
   "outputs": [],
   "source": [
    "html_table = urllib.request.urlopen(url).read()\n",
    "\n",
    "# fix HTML\n",
    "soup = BeautifulSoup(html_table, \"html.parser\")\n",
    "pretty = soup.prettify()"
   ]
  },
  {
   "cell_type": "code",
   "execution_count": null,
   "metadata": {},
   "outputs": [],
   "source": [
    "print(pretty)"
   ]
  },
  {
   "cell_type": "markdown",
   "metadata": {},
   "source": [
    "## div"
   ]
  },
  {
   "cell_type": "code",
   "execution_count": null,
   "metadata": {},
   "outputs": [],
   "source": [
    "#Path to get titles of articles\n",
    "tbl_div = 'team_and_opponent_clone'\n",
    "\n",
    "#Reading the results  \n",
    "table = pd.read_html(browser.find_by_id('team_and_opponent'))\n",
    "table"
   ]
  },
  {
   "cell_type": "markdown",
   "metadata": {},
   "source": [
    "## Bs tr scrape"
   ]
  },
  {
   "cell_type": "code",
   "execution_count": null,
   "metadata": {},
   "outputs": [],
   "source": [
    "from bs4 import BeautifulSoup\n",
    "import requests\n",
    "a = requests.get(\"https://www.basketball-reference.com/teams/TOR/2019.html\")\n",
    "soup = BeautifulSoup(a.text, 'lxml')\n",
    "# searching for the rows directly\n",
    "rows = soup.findAll('th', {'class': 'poptip'})\n",
    "# you will need to isolate elements in the row for the table\n",
    "for row in rows:\n",
    "    print(row.text)"
   ]
  },
  {
   "cell_type": "markdown",
   "metadata": {},
   "source": [
    "## Pandas Scrape Table"
   ]
  },
  {
   "cell_type": "code",
   "execution_count": null,
   "metadata": {},
   "outputs": [],
   "source": [
    "# We visit the Mars Facts webpage and use Pandas to scrape the table containing facts about the planet\n",
    "import pandas as pd\n",
    "r = requests.get('https://www.basketball-reference.com/teams/TOR/2019.html')\n",
    "text = \"table\"\n",
    "tables = pd.read_html(r.text, header=0)\n",
    "tables"
   ]
  },
  {
   "cell_type": "markdown",
   "metadata": {},
   "source": [
    "## try enumerate"
   ]
  },
  {
   "cell_type": "code",
   "execution_count": null,
   "metadata": {},
   "outputs": [],
   "source": [
    "desired_indexes = {0, 1, 2}\n",
    "#tables = soup.find_all('table', attrs={\"responsive\": \"true\"})\n",
    "tables = soup.find_all('table')\n",
    "for index, table in enumerate(tables):\n",
    "    if index not in desired_indexes:\n",
    "        continue\n",
    "    print(tables)"
   ]
  },
  {
   "cell_type": "markdown",
   "metadata": {},
   "source": [
    "## individual values"
   ]
  },
  {
   "cell_type": "code",
   "execution_count": null,
   "metadata": {},
   "outputs": [],
   "source": []
  },
  {
   "cell_type": "code",
   "execution_count": null,
   "metadata": {},
   "outputs": [],
   "source": []
  },
  {
   "cell_type": "code",
   "execution_count": null,
   "metadata": {},
   "outputs": [],
   "source": []
  },
  {
   "cell_type": "markdown",
   "metadata": {},
   "source": [
    "## Table to DF"
   ]
  },
  {
   "cell_type": "code",
   "execution_count": null,
   "metadata": {
    "scrolled": true
   },
   "outputs": [],
   "source": [
    "# Now let's slice off the dataframe using normal indexing.\n",
    "df = tables[0]\n",
    "df.columns = ['Col1', 'Col2']\n",
    "df.set_index('Col1', inplace=True)\n",
    "df"
   ]
  },
  {
   "cell_type": "code",
   "execution_count": null,
   "metadata": {},
   "outputs": [],
   "source": [
    "//*[@id=\"team_and_opponent\"]/tbody[1]/tr[1]/td[1]"
   ]
  },
  {
   "cell_type": "code",
   "execution_count": null,
   "metadata": {},
   "outputs": [],
   "source": [
    "#Path to get titles of articles\n",
    "gameX = '//*[@id=\"team_and_opponent\"]/tbody[1]/tr[1]/td[1]'\n",
    "\n",
    "#Reading the results  \n",
    "game = browser.find_by_xpath(gameX).value\n",
    "print(game)"
   ]
  },
  {
   "cell_type": "code",
   "execution_count": null,
   "metadata": {},
   "outputs": [],
   "source": []
  },
  {
   "cell_type": "code",
   "execution_count": null,
   "metadata": {},
   "outputs": [],
   "source": []
  },
  {
   "cell_type": "code",
   "execution_count": null,
   "metadata": {},
   "outputs": [],
   "source": []
  },
  {
   "cell_type": "code",
   "execution_count": null,
   "metadata": {},
   "outputs": [],
   "source": [
    "stat_list = []\n",
    "\n",
    "#Path to get titles of articles\n",
    "team_X = 'tor'\n",
    "oEfg_X = '//*[@id=\"team_misc\"]/tbody/tr[1]/td[13]'\n",
    "dEfg_X = '//*[@id=\"team_misc\"]/tbody/tr[1]/td[17]'\n",
    "oTOV_X = '//*[@id=\"team_misc\"]/tbody/tr[1]/td[14]'\n",
    "dTOV_X = '//*[@id=\"team_misc\"]/tbody/tr[1]/td[18]'\n",
    "oORB_X = '//*[@id=\"team_misc\"]/tbody/tr[1]/td[15]'\n",
    "dDRB_X = '//*[@id=\"team_misc\"]/tbody/tr[1]/td[19]'\n",
    "oFtByFga_X = '//*[@id=\"team_misc\"]/tbody/tr[1]/td[16]'\n",
    "dFtByFga_X = '//*[@id=\"team_misc\"]/tbody/tr[1]/td[20]'\n",
    "\n",
    "#Reading the results  \n",
    "abr = team_X\n",
    "stat_list.append(abr)\n",
    "oEfg = browser.find_by_xpath(oEfg_X).value\n",
    "stat_list.append(oEfg)\n",
    "dEfg = browser.find_by_xpath(dEfg_X).value\n",
    "stat_list.append(dEfg)\n",
    "oTOV = browser.find_by_xpath(oTOV_X).value\n",
    "stat_list.append(oTOV)\n",
    "dTOV = browser.find_by_xpath(dTOV_X).value\n",
    "stat_list.append(dTOV)\n",
    "oORB = browser.find_by_xpath(oORB_X).value\n",
    "stat_list.append(oORB)\n",
    "dDRB = browser.find_by_xpath(dDRB_X).value\n",
    "stat_list.append(dDRB)\n",
    "oFtByFga = browser.find_by_xpath(oFtByFga_X).value\n",
    "stat_list.append(oFtByFga)\n",
    "dFtByFga = browser.find_by_xpath(dFtByFga_X).value\n",
    "stat_list.append(dFtByFga)\n",
    "\n",
    "print(stat_list)"
   ]
  },
  {
   "cell_type": "markdown",
   "metadata": {},
   "source": [
    "## Scrape NASA News"
   ]
  },
  {
   "cell_type": "code",
   "execution_count": null,
   "metadata": {},
   "outputs": [],
   "source": [
    "# URL\n",
    "url = 'https://mars.nasa.gov/news/'\n",
    "browser.visit(url)"
   ]
  },
  {
   "cell_type": "code",
   "execution_count": null,
   "metadata": {},
   "outputs": [],
   "source": [
    "#Path to get titles of articles\n",
    "title = '//div[@class=\"content_title\"]/a'\n",
    "\n",
    "#Reading the results  \n",
    "nasa_title = browser.find_by_xpath(title).first.text\n"
   ]
  },
  {
   "cell_type": "code",
   "execution_count": null,
   "metadata": {},
   "outputs": [],
   "source": [
    "#Scrape teaser\n",
    "\n",
    "teaser = '//div[@class=\"article_teaser_body\"]'\n",
    "nasa_teaser = browser.find_by_xpath(teaser).first.text\n"
   ]
  },
  {
   "cell_type": "markdown",
   "metadata": {},
   "source": [
    "## JPL Mars Space Images - Featured Image"
   ]
  },
  {
   "cell_type": "code",
   "execution_count": null,
   "metadata": {},
   "outputs": [],
   "source": [
    "#JPL full-image\n",
    "jpl_url = \"https://www.jpl.nasa.gov/spaceimages/?search=&category=Mars\"\n",
    "browser.visit(jpl_url)\n",
    "browser.find_by_id('full_image').click()\n",
    "featured_image_url = browser.find_by_css('.fancybox-image').first['src']\n",
    "featured_image_url"
   ]
  },
  {
   "cell_type": "markdown",
   "metadata": {},
   "source": [
    "## Twitter Weather"
   ]
  },
  {
   "cell_type": "code",
   "execution_count": null,
   "metadata": {},
   "outputs": [],
   "source": [
    "#Mars twitter\n",
    "twitter = \"https://twitter.com/marswxreport?lang=en\"\n",
    "response = requests.get(twitter)\n",
    "\n",
    "# Create BeautifulSoup object\n",
    "soup = BeautifulSoup(response.text, 'html.parser')\n",
    "\n",
    "# find a weather tweet\n",
    "mars_weather=soup.find(string=re.compile(\", high\"))\n",
    "print(mars_weather)"
   ]
  },
  {
   "cell_type": "markdown",
   "metadata": {},
   "source": [
    "## Mars Facts"
   ]
  },
  {
   "cell_type": "code",
   "execution_count": null,
   "metadata": {},
   "outputs": [],
   "source": [
    "# We visit the Mars Facts webpage and use Pandas to scrape the table containing facts about the planet\n",
    "import pandas as pd\n",
    "marsfacts = 'https://space-facts.com/mars/'\n",
    "tables = pd.read_html(marsfacts)\n",
    "tables"
   ]
  },
  {
   "cell_type": "code",
   "execution_count": null,
   "metadata": {},
   "outputs": [],
   "source": [
    "# Now let's slice off the dataframe using normal indexing.\n",
    "df = tables[0]\n",
    "df.columns = ['Col1', 'Col2']\n",
    "df.set_index('Col1', inplace=True)\n",
    "df"
   ]
  },
  {
   "cell_type": "code",
   "execution_count": null,
   "metadata": {},
   "outputs": [],
   "source": [
    "#Converting the data to a HTML table string and stripping unwanted newlines to clean up the table\n",
    "\n",
    "mars_html = df.to_html()\n",
    "mars_html.replace(\"\\n\", \" \")"
   ]
  },
  {
   "cell_type": "markdown",
   "metadata": {},
   "source": [
    "## Mars Hemispheres"
   ]
  },
  {
   "cell_type": "code",
   "execution_count": null,
   "metadata": {},
   "outputs": [],
   "source": [
    "usgs_url = 'https://astrogeology.usgs.gov/search/results?q=hemisphere+enhanced&k1=target&v1=Mars'\n",
    "hemisphere_image_urls = []\n",
    "browser.visit(usgs_url)\n",
    "for i in range(4):\n",
    "    dictionary = {}\n",
    "    hemis = browser.find_by_tag('h3')[i].text\n",
    "    browser.find_by_css('.thumb')[i].click()\n",
    "    img = browser.find_by_text('Sample')['href']\n",
    "    browser.back()\n",
    "    dictionary['hemisphere'] = hemis\n",
    "    dictionary['img'] = img\n",
    "    hemisphere_image_urls.append(dictionary)\n",
    "print(hemisphere_image_urls)"
   ]
  },
  {
   "cell_type": "code",
   "execution_count": null,
   "metadata": {},
   "outputs": [],
   "source": [
    "import shutil\n",
    "import requests\n",
    "for img in images_url:\n",
    "    response = requests.get(img, stream=True) \n",
    "    with open('img.jpg', 'wb') as out_file:\n",
    "        shutil.copyfileobj(response.raw, out_file)"
   ]
  },
  {
   "cell_type": "code",
   "execution_count": null,
   "metadata": {},
   "outputs": [],
   "source": [
    "# Displaying the first image with IPython.display\n",
    "from IPython.display import Image\n",
    "Image(url='img.jpg')"
   ]
  },
  {
   "cell_type": "code",
   "execution_count": null,
   "metadata": {},
   "outputs": [],
   "source": []
  }
 ],
 "metadata": {
  "kernelspec": {
   "display_name": "Python 3",
   "language": "python",
   "name": "python3"
  },
  "language_info": {
   "codemirror_mode": {
    "name": "ipython",
    "version": 3
   },
   "file_extension": ".py",
   "mimetype": "text/x-python",
   "name": "python",
   "nbconvert_exporter": "python",
   "pygments_lexer": "ipython3",
   "version": "3.6.5"
  }
 },
 "nbformat": 4,
 "nbformat_minor": 2
}
